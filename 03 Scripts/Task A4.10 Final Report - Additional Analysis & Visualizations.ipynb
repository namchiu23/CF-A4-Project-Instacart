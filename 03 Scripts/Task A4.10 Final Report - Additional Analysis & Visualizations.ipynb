{
 "cells": [
  {
   "cell_type": "markdown",
   "id": "73a5e73b",
   "metadata": {},
   "source": [
    "# Task A4.10 Final Report - Additional Analysis & Visualizations"
   ]
  },
  {
   "cell_type": "markdown",
   "id": "156f51ba",
   "metadata": {},
   "source": [
    "### Table of Contents\n",
    "###### 01. Import Data Set and Create Dataframe\n",
    "###### 02. Visualizations for ordering habits based on customer's loyalty status\n",
    "###### 03. Visualizations for ordering habits based on customer's region\n",
    "###### 04. Tidy Up, Export, Save"
   ]
  },
  {
   "cell_type": "markdown",
   "id": "0012bc4b",
   "metadata": {},
   "source": [
    "### 01. Import Data Set and Create Dataframe"
   ]
  },
  {
   "cell_type": "code",
   "execution_count": 1,
   "id": "a6b19111",
   "metadata": {},
   "outputs": [],
   "source": [
    "# Import libraries\n",
    "import pandas as pd\n",
    "import numpy as np\n",
    "import os\n",
    "import matplotlib.pyplot as plt\n",
    "import seaborn as sns\n",
    "import scipy"
   ]
  },
  {
   "cell_type": "code",
   "execution_count": 2,
   "id": "21d5c3a2",
   "metadata": {},
   "outputs": [],
   "source": [
    "# path shortcut\n",
    "path = r'/Users/nicolechiu/OneDrive - InterVarsity Christian Fellowship USA/Documents/CF Data Analytics/Achievement 4/05-2023 Instacart Basket Analysis'"
   ]
  },
  {
   "cell_type": "code",
   "execution_count": 3,
   "id": "35c17dcf",
   "metadata": {},
   "outputs": [],
   "source": [
    "# orders_products_all dataframe creation\n",
    "df = pd.read_pickle(os.path.join(path, '02 Data', 'Prepared Data', 'orders_products_final_report.pkl'))"
   ]
  },
  {
   "cell_type": "markdown",
   "id": "daa849fb",
   "metadata": {},
   "source": [
    "### 02. Visualizations for ordering habits based on customer's loyalty status"
   ]
  },
  {
   "cell_type": "markdown",
   "id": "fff83848",
   "metadata": {},
   "source": [
    "##### By Spending"
   ]
  },
  {
   "cell_type": "code",
   "execution_count": 4,
   "id": "818a663c",
   "metadata": {},
   "outputs": [],
   "source": [
    "# Create crosstab \n",
    "spending_loyalty_crossed = pd.crosstab(df['spending_flag'], df['loyalty_flag'])"
   ]
  },
  {
   "cell_type": "code",
   "execution_count": 5,
   "id": "82e5f20c",
   "metadata": {},
   "outputs": [
    {
     "data": {
      "text/html": [
       "<div>\n",
       "<style scoped>\n",
       "    .dataframe tbody tr th:only-of-type {\n",
       "        vertical-align: middle;\n",
       "    }\n",
       "\n",
       "    .dataframe tbody tr th {\n",
       "        vertical-align: top;\n",
       "    }\n",
       "\n",
       "    .dataframe thead th {\n",
       "        text-align: right;\n",
       "    }\n",
       "</style>\n",
       "<table border=\"1\" class=\"dataframe\">\n",
       "  <thead>\n",
       "    <tr style=\"text-align: right;\">\n",
       "      <th>loyalty_flag</th>\n",
       "      <th>Loyal customer</th>\n",
       "      <th>New customer</th>\n",
       "      <th>Regular customer</th>\n",
       "    </tr>\n",
       "    <tr>\n",
       "      <th>spending_flag</th>\n",
       "      <th></th>\n",
       "      <th></th>\n",
       "      <th></th>\n",
       "    </tr>\n",
       "  </thead>\n",
       "  <tbody>\n",
       "    <tr>\n",
       "      <th>High spender</th>\n",
       "      <td>216600</td>\n",
       "      <td>114831</td>\n",
       "      <td>302814</td>\n",
       "    </tr>\n",
       "    <tr>\n",
       "      <th>Low spender</th>\n",
       "      <td>10067493</td>\n",
       "      <td>6129159</td>\n",
       "      <td>15573962</td>\n",
       "    </tr>\n",
       "  </tbody>\n",
       "</table>\n",
       "</div>"
      ],
      "text/plain": [
       "loyalty_flag   Loyal customer  New customer  Regular customer\n",
       "spending_flag                                                \n",
       "High spender           216600        114831            302814\n",
       "Low spender          10067493       6129159          15573962"
      ]
     },
     "execution_count": 5,
     "metadata": {},
     "output_type": "execute_result"
    }
   ],
   "source": [
    "spending_loyalty_crossed"
   ]
  },
  {
   "cell_type": "code",
   "execution_count": 6,
   "id": "9ec17fee",
   "metadata": {},
   "outputs": [
    {
     "data": {
      "image/png": "[encoded data removed]",
      "text/plain": [
       "<Figure size 640x480 with 1 Axes>"
      ]
     },
     "metadata": {},
     "output_type": "display_data"
    }
   ],
   "source": [
    "# Create visualization\n",
    "bar_spending_loyalty = spending_loyalty_crossed.plot.bar(rot=0)"
   ]
  },
  {
   "cell_type": "code",
   "execution_count": 8,
   "id": "145706cf",
   "metadata": {},
   "outputs": [],
   "source": [
    "# Export bar chart\n",
    "bar_spending_loyalty.figure.savefig(os.path.join(path, '04 Analysis','Visualizations', 'bar_loyalty_spending.png'))"
   ]
  },
  {
   "cell_type": "markdown",
   "id": "571c610e",
   "metadata": {},
   "source": [
    "##### By Order Frequency"
   ]
  },
  {
   "cell_type": "code",
   "execution_count": 10,
   "id": "ed9914ff",
   "metadata": {},
   "outputs": [],
   "source": [
    "# Create crosstab \n",
    "ord_frequency_loyalty_crossed = pd.crosstab(df['frequency_flag'], df['loyalty_flag'])"
   ]
  },
  {
   "cell_type": "code",
   "execution_count": 11,
   "id": "22ec4eb9",
   "metadata": {},
   "outputs": [
    {
     "data": {
      "text/html": [
       "<div>\n",
       "<style scoped>\n",
       "    .dataframe tbody tr th:only-of-type {\n",
       "        vertical-align: middle;\n",
       "    }\n",
       "\n",
       "    .dataframe tbody tr th {\n",
       "        vertical-align: top;\n",
       "    }\n",
       "\n",
       "    .dataframe thead th {\n",
       "        text-align: right;\n",
       "    }\n",
       "</style>\n",
       "<table border=\"1\" class=\"dataframe\">\n",
       "  <thead>\n",
       "    <tr style=\"text-align: right;\">\n",
       "      <th>loyalty_flag</th>\n",
       "      <th>Loyal customer</th>\n",
       "      <th>New customer</th>\n",
       "      <th>Regular customer</th>\n",
       "    </tr>\n",
       "    <tr>\n",
       "      <th>frequency_flag</th>\n",
       "      <th></th>\n",
       "      <th></th>\n",
       "      <th></th>\n",
       "    </tr>\n",
       "  </thead>\n",
       "  <tbody>\n",
       "    <tr>\n",
       "      <th>Frequent customer</th>\n",
       "      <td>10279960</td>\n",
       "      <td>1648671</td>\n",
       "      <td>9631222</td>\n",
       "    </tr>\n",
       "    <tr>\n",
       "      <th>Non-frequency customer</th>\n",
       "      <td>0</td>\n",
       "      <td>2724962</td>\n",
       "      <td>911475</td>\n",
       "    </tr>\n",
       "    <tr>\n",
       "      <th>Regular customer</th>\n",
       "      <td>4133</td>\n",
       "      <td>1870352</td>\n",
       "      <td>5334079</td>\n",
       "    </tr>\n",
       "  </tbody>\n",
       "</table>\n",
       "</div>"
      ],
      "text/plain": [
       "loyalty_flag            Loyal customer  New customer  Regular customer\n",
       "frequency_flag                                                        \n",
       "Frequent customer             10279960       1648671           9631222\n",
       "Non-frequency customer               0       2724962            911475\n",
       "Regular customer                  4133       1870352           5334079"
      ]
     },
     "execution_count": 11,
     "metadata": {},
     "output_type": "execute_result"
    }
   ],
   "source": [
    "ord_frequency_loyalty_crossed"
   ]
  },
  {
   "cell_type": "code",
   "execution_count": 12,
   "id": "d732a70e",
   "metadata": {},
   "outputs": [
    {
     "data": {
      "image/png": "[encoded data removed]",
      "text/plain": [
       "<Figure size 640x480 with 1 Axes>"
      ]
     },
     "metadata": {},
     "output_type": "display_data"
    }
   ],
   "source": [
    "# Create visualization\n",
    "bar_ord_frequency_loyalty = ord_frequency_loyalty_crossed.plot.bar(rot=0)"
   ]
  },
  {
   "cell_type": "code",
   "execution_count": 13,
   "id": "0aa7d204",
   "metadata": {},
   "outputs": [],
   "source": [
    "# Export bar chart\n",
    "bar_ord_frequency_loyalty.figure.savefig(os.path.join(path, '04 Analysis','Visualizations', 'bar_loyalty_ord_frequency.png'))"
   ]
  },
  {
   "cell_type": "markdown",
   "id": "7268c3d0",
   "metadata": {},
   "source": [
    "### 03. Visualizations for ordering habits based on customer's region"
   ]
  },
  {
   "cell_type": "markdown",
   "id": "a77c0c66",
   "metadata": {},
   "source": [
    "##### By Spending"
   ]
  },
  {
   "cell_type": "code",
   "execution_count": 14,
   "id": "fde965a3",
   "metadata": {},
   "outputs": [],
   "source": [
    "# Create crosstab \n",
    "spending_region_crossed = pd.crosstab(df['spending_flag'], df['region'])"
   ]
  },
  {
   "cell_type": "code",
   "execution_count": 15,
   "id": "8deef963",
   "metadata": {},
   "outputs": [
    {
     "data": {
      "text/html": [
       "<div>\n",
       "<style scoped>\n",
       "    .dataframe tbody tr th:only-of-type {\n",
       "        vertical-align: middle;\n",
       "    }\n",
       "\n",
       "    .dataframe tbody tr th {\n",
       "        vertical-align: top;\n",
       "    }\n",
       "\n",
       "    .dataframe thead th {\n",
       "        text-align: right;\n",
       "    }\n",
       "</style>\n",
       "<table border=\"1\" class=\"dataframe\">\n",
       "  <thead>\n",
       "    <tr style=\"text-align: right;\">\n",
       "      <th>region</th>\n",
       "      <th>Midwest</th>\n",
       "      <th>Northeast</th>\n",
       "      <th>South</th>\n",
       "      <th>West</th>\n",
       "    </tr>\n",
       "    <tr>\n",
       "      <th>spending_flag</th>\n",
       "      <th></th>\n",
       "      <th></th>\n",
       "      <th></th>\n",
       "      <th></th>\n",
       "    </tr>\n",
       "  </thead>\n",
       "  <tbody>\n",
       "    <tr>\n",
       "      <th>High spender</th>\n",
       "      <td>155975</td>\n",
       "      <td>108225</td>\n",
       "      <td>209691</td>\n",
       "      <td>160354</td>\n",
       "    </tr>\n",
       "    <tr>\n",
       "      <th>Low spender</th>\n",
       "      <td>7441350</td>\n",
       "      <td>5614511</td>\n",
       "      <td>10582194</td>\n",
       "      <td>8132559</td>\n",
       "    </tr>\n",
       "  </tbody>\n",
       "</table>\n",
       "</div>"
      ],
      "text/plain": [
       "region         Midwest  Northeast     South     West\n",
       "spending_flag                                       \n",
       "High spender    155975     108225    209691   160354\n",
       "Low spender    7441350    5614511  10582194  8132559"
      ]
     },
     "execution_count": 15,
     "metadata": {},
     "output_type": "execute_result"
    }
   ],
   "source": [
    "spending_region_crossed"
   ]
  },
  {
   "cell_type": "code",
   "execution_count": 16,
   "id": "5f4039ca",
   "metadata": {},
   "outputs": [
    {
     "data": {
      "image/png": "[encoded data removed]",
      "text/plain": [
       "<Figure size 640x480 with 1 Axes>"
      ]
     },
     "metadata": {},
     "output_type": "display_data"
    }
   ],
   "source": [
    "# Create visualization\n",
    "bar_spending_region = spending_region_crossed.plot.bar(rot=0)"
   ]
  },
  {
   "cell_type": "code",
   "execution_count": 17,
   "id": "49fd1117",
   "metadata": {},
   "outputs": [],
   "source": [
    "# Export bar chart\n",
    "bar_spending_region.figure.savefig(os.path.join(path, '04 Analysis','Visualizations', 'bar_region_spending.png'))"
   ]
  },
  {
   "cell_type": "markdown",
   "id": "957ba55b",
   "metadata": {},
   "source": [
    "##### By Order Frequency"
   ]
  },
  {
   "cell_type": "code",
   "execution_count": 18,
   "id": "00476e7b",
   "metadata": {},
   "outputs": [],
   "source": [
    "# Create crosstab \n",
    "ord_frequency_region_crossed = pd.crosstab(df['frequency_flag'], df['region'])"
   ]
  },
  {
   "cell_type": "code",
   "execution_count": 19,
   "id": "c4b9e04c",
   "metadata": {},
   "outputs": [
    {
     "data": {
      "text/html": [
       "<div>\n",
       "<style scoped>\n",
       "    .dataframe tbody tr th:only-of-type {\n",
       "        vertical-align: middle;\n",
       "    }\n",
       "\n",
       "    .dataframe tbody tr th {\n",
       "        vertical-align: top;\n",
       "    }\n",
       "\n",
       "    .dataframe thead th {\n",
       "        text-align: right;\n",
       "    }\n",
       "</style>\n",
       "<table border=\"1\" class=\"dataframe\">\n",
       "  <thead>\n",
       "    <tr style=\"text-align: right;\">\n",
       "      <th>region</th>\n",
       "      <th>Midwest</th>\n",
       "      <th>Northeast</th>\n",
       "      <th>South</th>\n",
       "      <th>West</th>\n",
       "    </tr>\n",
       "    <tr>\n",
       "      <th>frequency_flag</th>\n",
       "      <th></th>\n",
       "      <th></th>\n",
       "      <th></th>\n",
       "      <th></th>\n",
       "    </tr>\n",
       "  </thead>\n",
       "  <tbody>\n",
       "    <tr>\n",
       "      <th>Frequent customer</th>\n",
       "      <td>5017709</td>\n",
       "      <td>3804566</td>\n",
       "      <td>7192372</td>\n",
       "      <td>5545206</td>\n",
       "    </tr>\n",
       "    <tr>\n",
       "      <th>Non-frequency customer</th>\n",
       "      <td>863419</td>\n",
       "      <td>630182</td>\n",
       "      <td>1215088</td>\n",
       "      <td>927748</td>\n",
       "    </tr>\n",
       "    <tr>\n",
       "      <th>Regular customer</th>\n",
       "      <td>1716197</td>\n",
       "      <td>1287988</td>\n",
       "      <td>2384420</td>\n",
       "      <td>1819959</td>\n",
       "    </tr>\n",
       "  </tbody>\n",
       "</table>\n",
       "</div>"
      ],
      "text/plain": [
       "region                  Midwest  Northeast    South     West\n",
       "frequency_flag                                              \n",
       "Frequent customer       5017709    3804566  7192372  5545206\n",
       "Non-frequency customer   863419     630182  1215088   927748\n",
       "Regular customer        1716197    1287988  2384420  1819959"
      ]
     },
     "execution_count": 19,
     "metadata": {},
     "output_type": "execute_result"
    }
   ],
   "source": [
    "ord_frequency_region_crossed"
   ]
  },
  {
   "cell_type": "code",
   "execution_count": 20,
   "id": "3e9e571e",
   "metadata": {},
   "outputs": [
    {
     "data": {
      "image/png": "[encoded data removed]",
      "text/plain": [
       "<Figure size 640x480 with 1 Axes>"
      ]
     },
     "metadata": {},
     "output_type": "display_data"
    }
   ],
   "source": [
    "# Create visualization\n",
    "bar_ord_frequency_region = ord_frequency_region_crossed.plot.bar(rot=0)"
   ]
  },
  {
   "cell_type": "code",
   "execution_count": 21,
   "id": "c5b7dae6",
   "metadata": {},
   "outputs": [],
   "source": [
    "# Export bar chart\n",
    "bar_ord_frequency_region.figure.savefig(os.path.join(path, '04 Analysis','Visualizations', 'bar_region_ord_frequency.png'))"
   ]
  },
  {
   "cell_type": "markdown",
   "id": "46ceac82",
   "metadata": {},
   "source": [
    "### 04. Tidy Up, Export, Save"
   ]
  },
  {
   "cell_type": "code",
   "execution_count": 22,
   "id": "64229103",
   "metadata": {},
   "outputs": [],
   "source": [
    "# Export final pkl\n",
    "df.to_pickle(os.path.join(path, '02 Data', 'Prepared Data', 'orders_products_final_report_additional.pkl'))"
   ]
  },
  {
   "cell_type": "code",
   "execution_count": null,
   "id": "414c976a",
   "metadata": {},
   "outputs": [],
   "source": []
  }
 ],
 "metadata": {
  "kernelspec": {
   "display_name": "Python 3 (ipykernel)",
   "language": "python",
   "name": "python3"
  },
  "language_info": {
   "codemirror_mode": {
    "name": "ipython",
    "version": 3
   },
   "file_extension": ".py",
   "mimetype": "text/x-python",
   "name": "python",
   "nbconvert_exporter": "python",
   "pygments_lexer": "ipython3",
   "version": "3.10.9"
  }
 },
 "nbformat": 4,
 "nbformat_minor": 5
}
