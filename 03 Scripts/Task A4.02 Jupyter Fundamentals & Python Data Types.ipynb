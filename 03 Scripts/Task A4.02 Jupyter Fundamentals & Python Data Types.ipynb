{
 "cells": [
  {
   "cell_type": "markdown",
   "id": "8cde38c6",
   "metadata": {},
   "source": [
    "# Task A4.02 Jupyter Fundamentals & Python Data Types"
   ]
  },
  {
   "cell_type": "markdown",
   "id": "500dcb5b",
   "metadata": {},
   "source": [
    "### Table of Contents\n",
    "##### 01. Import Libraries\n",
    "##### 02. Python Data Types"
   ]
  },
  {
   "cell_type": "markdown",
   "id": "33900026",
   "metadata": {},
   "source": [
    "### 01. Import Libraries"
   ]
  },
  {
   "cell_type": "code",
   "execution_count": 1,
   "id": "9ac1b940",
   "metadata": {},
   "outputs": [],
   "source": [
    "# Import libraries\n",
    "import pandas as pd\n",
    "import numpy as np\n",
    "import os"
   ]
  },
  {
   "cell_type": "markdown",
   "id": "ab189d68",
   "metadata": {},
   "source": [
    "### 02. Python Data Types"
   ]
  },
  {
   "cell_type": "code",
   "execution_count": 2,
   "id": "4b0da3de",
   "metadata": {},
   "outputs": [],
   "source": [
    "# Working with Python data types"
   ]
  },
  {
   "cell_type": "code",
   "execution_count": 3,
   "id": "2c45a1bd",
   "metadata": {},
   "outputs": [],
   "source": [
    "x = 40"
   ]
  },
  {
   "cell_type": "code",
   "execution_count": 4,
   "id": "5913646a",
   "metadata": {},
   "outputs": [],
   "source": [
    "y = 60"
   ]
  },
  {
   "cell_type": "code",
   "execution_count": 5,
   "id": "e8377752",
   "metadata": {},
   "outputs": [],
   "source": [
    "z = 140"
   ]
  },
  {
   "cell_type": "code",
   "execution_count": 6,
   "id": "d63afef5",
   "metadata": {},
   "outputs": [],
   "source": [
    "w = 50"
   ]
  },
  {
   "cell_type": "code",
   "execution_count": 7,
   "id": "1badcfbd",
   "metadata": {},
   "outputs": [
    {
     "data": {
      "text/plain": [
       "100"
      ]
     },
     "execution_count": 7,
     "metadata": {},
     "output_type": "execute_result"
    }
   ],
   "source": [
    "x + y"
   ]
  },
  {
   "cell_type": "code",
   "execution_count": 8,
   "id": "4b954faf",
   "metadata": {},
   "outputs": [
    {
     "data": {
      "text/plain": [
       "100"
      ]
     },
     "execution_count": 8,
     "metadata": {},
     "output_type": "execute_result"
    }
   ],
   "source": [
    "z - x"
   ]
  },
  {
   "cell_type": "code",
   "execution_count": 9,
   "id": "08e75dfa",
   "metadata": {},
   "outputs": [
    {
     "data": {
      "text/plain": [
       "100"
      ]
     },
     "execution_count": 9,
     "metadata": {},
     "output_type": "execute_result"
    }
   ],
   "source": [
    "w + w"
   ]
  },
  {
   "cell_type": "code",
   "execution_count": 10,
   "id": "d615b894",
   "metadata": {},
   "outputs": [],
   "source": [
    "a = 4.67"
   ]
  },
  {
   "cell_type": "code",
   "execution_count": 11,
   "id": "3791da1c",
   "metadata": {},
   "outputs": [],
   "source": [
    "b = 2384.38"
   ]
  },
  {
   "cell_type": "code",
   "execution_count": 12,
   "id": "9aa9ebb5",
   "metadata": {},
   "outputs": [
    {
     "data": {
      "text/plain": [
       "510.5738758029979"
      ]
     },
     "execution_count": 12,
     "metadata": {},
     "output_type": "execute_result"
    }
   ],
   "source": [
    "b/a"
   ]
  },
  {
   "cell_type": "code",
   "execution_count": 13,
   "id": "e29096a6",
   "metadata": {},
   "outputs": [],
   "source": [
    "l = 'abdo'"
   ]
  },
  {
   "cell_type": "code",
   "execution_count": 14,
   "id": "8d10b610",
   "metadata": {},
   "outputs": [],
   "source": [
    "m = 'men'"
   ]
  },
  {
   "cell_type": "code",
   "execution_count": 15,
   "id": "99b55d80",
   "metadata": {},
   "outputs": [
    {
     "data": {
      "text/plain": [
       "'abdomen'"
      ]
     },
     "execution_count": 15,
     "metadata": {},
     "output_type": "execute_result"
    }
   ],
   "source": [
    "l + m"
   ]
  },
  {
   "cell_type": "code",
   "execution_count": 16,
   "id": "42850a13",
   "metadata": {},
   "outputs": [],
   "source": [
    "n = 'The weather outside '"
   ]
  },
  {
   "cell_type": "code",
   "execution_count": 17,
   "id": "3fed06bc",
   "metadata": {},
   "outputs": [],
   "source": [
    "o = 'is frightful'"
   ]
  },
  {
   "cell_type": "code",
   "execution_count": 18,
   "id": "643d12a0",
   "metadata": {},
   "outputs": [
    {
     "data": {
      "text/plain": [
       "'The weather outside is frightful'"
      ]
     },
     "execution_count": 18,
     "metadata": {},
     "output_type": "execute_result"
    }
   ],
   "source": [
    "n + o"
   ]
  },
  {
   "cell_type": "code",
   "execution_count": 19,
   "id": "64aeaaf1",
   "metadata": {},
   "outputs": [],
   "source": [
    "p = 'But the fire '"
   ]
  },
  {
   "cell_type": "code",
   "execution_count": 20,
   "id": "966dba20",
   "metadata": {},
   "outputs": [],
   "source": [
    "q = 'is so delightful'"
   ]
  },
  {
   "cell_type": "code",
   "execution_count": 21,
   "id": "863cf4b0",
   "metadata": {},
   "outputs": [
    {
     "data": {
      "text/plain": [
       "'But the fire is so delightful'"
      ]
     },
     "execution_count": 21,
     "metadata": {},
     "output_type": "execute_result"
    }
   ],
   "source": [
    "p + q"
   ]
  }
 ],
 "metadata": {
  "kernelspec": {
   "display_name": "Python 3 (ipykernel)",
   "language": "python",
   "name": "python3"
  },
  "language_info": {
   "codemirror_mode": {
    "name": "ipython",
    "version": 3
   },
   "file_extension": ".py",
   "mimetype": "text/x-python",
   "name": "python",
   "nbconvert_exporter": "python",
   "pygments_lexer": "ipython3",
   "version": "3.10.9"
  }
 },
 "nbformat": 4,
 "nbformat_minor": 5
}
